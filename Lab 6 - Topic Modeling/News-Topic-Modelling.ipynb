{
 "cells": [
  {
   "cell_type": "markdown",
   "metadata": {},
   "source": [
    "# Topic Modelling for News"
   ]
  },
  {
   "cell_type": "markdown",
   "metadata": {},
   "source": [
    "![](https://images.unsplash.com/photo-1495020689067-958852a7765e?ixlib=rb-1.2.1&ixid=eyJhcHBfaWQiOjEyMDd9&auto=format&fit=crop&w=1050&q=80)\n",
    "\n",
    "Photo by [Roman Kraft](https://unsplash.com/photos/_Zua2hyvTBk)"
   ]
  },
  {
   "cell_type": "markdown",
   "metadata": {},
   "source": [
    "This exercise is about modelling the main topics of a database of News headlines."
   ]
  },
  {
   "cell_type": "markdown",
   "metadata": {},
   "source": [
    "Begin by importing the needed libraries:"
   ]
  },
  {
   "cell_type": "code",
   "execution_count": 1,
   "metadata": {},
   "outputs": [],
   "source": [
    "# TODO: import needed libraries\n",
    "import nltk\n",
    "import numpy as np\n",
    "import pandas as pd"
   ]
  },
  {
   "cell_type": "markdown",
   "metadata": {},
   "source": [
    "Load the data in the file `random_headlines.csv`"
   ]
  },
  {
   "cell_type": "code",
   "execution_count": 2,
   "metadata": {
    "scrolled": true
   },
   "outputs": [
    {
     "name": "stdout",
     "output_type": "stream",
     "text": [
      "(20000, 2)\n"
     ]
    },
    {
     "data": {
      "text/html": [
       "<div>\n",
       "<style scoped>\n",
       "    .dataframe tbody tr th:only-of-type {\n",
       "        vertical-align: middle;\n",
       "    }\n",
       "\n",
       "    .dataframe tbody tr th {\n",
       "        vertical-align: top;\n",
       "    }\n",
       "\n",
       "    .dataframe thead th {\n",
       "        text-align: right;\n",
       "    }\n",
       "</style>\n",
       "<table border=\"1\" class=\"dataframe\">\n",
       "  <thead>\n",
       "    <tr style=\"text-align: right;\">\n",
       "      <th></th>\n",
       "      <th>publish_date</th>\n",
       "      <th>headline_text</th>\n",
       "    </tr>\n",
       "  </thead>\n",
       "  <tbody>\n",
       "    <tr>\n",
       "      <th>0</th>\n",
       "      <td>20120305</td>\n",
       "      <td>ute driver hurt in intersection crash</td>\n",
       "    </tr>\n",
       "    <tr>\n",
       "      <th>1</th>\n",
       "      <td>20081128</td>\n",
       "      <td>6yo dies in cycling accident</td>\n",
       "    </tr>\n",
       "    <tr>\n",
       "      <th>2</th>\n",
       "      <td>20090325</td>\n",
       "      <td>bumper olive harvest expected</td>\n",
       "    </tr>\n",
       "    <tr>\n",
       "      <th>3</th>\n",
       "      <td>20100201</td>\n",
       "      <td>replica replaces northernmost sign</td>\n",
       "    </tr>\n",
       "    <tr>\n",
       "      <th>4</th>\n",
       "      <td>20080225</td>\n",
       "      <td>woods targets perfect season</td>\n",
       "    </tr>\n",
       "  </tbody>\n",
       "</table>\n",
       "</div>"
      ],
      "text/plain": [
       "   publish_date                          headline_text\n",
       "0      20120305  ute driver hurt in intersection crash\n",
       "1      20081128           6yo dies in cycling accident\n",
       "2      20090325          bumper olive harvest expected\n",
       "3      20100201     replica replaces northernmost sign\n",
       "4      20080225           woods targets perfect season"
      ]
     },
     "execution_count": 2,
     "metadata": {},
     "output_type": "execute_result"
    }
   ],
   "source": [
    "# TODO: load the dataset\n",
    "df = pd.read_csv('random_headlines.csv')\n",
    "print(df.shape)\n",
    "df.head()"
   ]
  },
  {
   "cell_type": "markdown",
   "metadata": {},
   "source": [
    "This is always a good idea to perform some EDA (exploratory data analytics) on a dataset..."
   ]
  },
  {
   "cell_type": "code",
   "execution_count": 3,
   "metadata": {},
   "outputs": [
    {
     "name": "stdout",
     "output_type": "stream",
     "text": [
      "<class 'pandas.core.frame.DataFrame'>\n",
      "RangeIndex: 20000 entries, 0 to 19999\n",
      "Data columns (total 2 columns):\n",
      " #   Column         Non-Null Count  Dtype \n",
      "---  ------         --------------  ----- \n",
      " 0   publish_date   20000 non-null  int64 \n",
      " 1   headline_text  20000 non-null  object\n",
      "dtypes: int64(1), object(1)\n",
      "memory usage: 312.6+ KB\n"
     ]
    }
   ],
   "source": [
    "# TODO: Perform a short EDA\n",
    "df.info()"
   ]
  },
  {
   "cell_type": "markdown",
   "metadata": {},
   "source": [
    "Now perform all the needed preprocessing on those headlines: case lowering, tokenization, punctuation removal, stopwords removal, stemming/lemmatization."
   ]
  },
  {
   "cell_type": "code",
   "execution_count": 4,
   "metadata": {},
   "outputs": [
    {
     "data": {
      "text/plain": [
       "0    [ute, driver, hurt, intersect, crash]\n",
       "1                       [die, cycl, accid]\n",
       "2          [bumper, oliv, harvest, expect]\n",
       "3    [replica, replac, northernmost, sign]\n",
       "4          [wood, target, perfect, season]\n",
       "Name: stemmed, dtype: object"
      ]
     },
     "execution_count": 4,
     "metadata": {},
     "output_type": "execute_result"
    }
   ],
   "source": [
    "# TODO: Preprocess the input data\n",
    "\n",
    "# tokenize\n",
    "df['tokens'] = df['headline_text'].apply(lambda row: nltk.word_tokenize(row))\n",
    "\n",
    "# punctuation\n",
    "df['alphanumeric'] = df['tokens'].apply(lambda row: [word for word in row if word.isalpha()])\n",
    "\n",
    "#remove stopwords\n",
    "stop = nltk.corpus.stopwords.words('english')\n",
    "df['stop'] = df['alphanumeric'].apply(lambda row: [word for word in row if word not in stop])\n",
    "\n",
    "# stemming\n",
    "stemmer = nltk.PorterStemmer()\n",
    "df['stemmed'] = df['stop'].apply(lambda row: [stemmer.stem(word) for word in row])\n",
    "\n",
    "df['stemmed'].head()\n",
    "\n"
   ]
  },
  {
   "cell_type": "markdown",
   "metadata": {},
   "source": [
    "Now use Gensim to compute a BOW"
   ]
  },
  {
   "cell_type": "code",
   "execution_count": 5,
   "metadata": {},
   "outputs": [
    {
     "name": "stdout",
     "output_type": "stream",
     "text": [
      "(20000,)\n"
     ]
    },
    {
     "name": "stderr",
     "output_type": "stream",
     "text": [
      "C:\\Users\\amic7\\anaconda3\\lib\\site-packages\\numpy\\core\\fromnumeric.py:2009: VisibleDeprecationWarning: Creating an ndarray from ragged nested sequences (which is a list-or-tuple of lists-or-tuples-or ndarrays with different lengths or shapes) is deprecated. If you meant to do this, you must specify 'dtype=object' when creating the ndarray.\n",
      "  result = asarray(a).shape\n"
     ]
    },
    {
     "data": {
      "text/plain": [
       "[[(0, 1), (1, 1), (2, 1), (3, 1), (4, 1)], [(5, 1), (6, 1), (7, 1)]]"
      ]
     },
     "execution_count": 5,
     "metadata": {},
     "output_type": "execute_result"
    }
   ],
   "source": [
    "# TODO: Compute the BOW using Gensim\n",
    "from gensim.corpora import Dictionary\n",
    "\n",
    "dictionary = Dictionary(df['stemmed'])\n",
    "corpus = [dictionary.doc2bow(line) for line in df['stemmed']]\n",
    "print(np.shape(corpus))\n",
    "corpus[0:2]"
   ]
  },
  {
   "cell_type": "markdown",
   "metadata": {},
   "source": [
    "Compute the TF-IDF using Gensim"
   ]
  },
  {
   "cell_type": "code",
   "execution_count": 6,
   "metadata": {},
   "outputs": [
    {
     "name": "stdout",
     "output_type": "stream",
     "text": [
      "(20000,)\n"
     ]
    }
   ],
   "source": [
    "# TODO: Compute TF-IDF\n",
    "from gensim.models import TfidfModel\n",
    "\n",
    "tfidf_model = TfidfModel(corpus)\n",
    "tf_idf = tfidf_model[corpus]\n",
    "print(np.shape(tf_idf))\n"
   ]
  },
  {
   "cell_type": "markdown",
   "metadata": {},
   "source": [
    "Finally compute the **LSA** (also called LSI) using Gensim, for a given number of Topics that you choose yourself"
   ]
  },
  {
   "cell_type": "code",
   "execution_count": 7,
   "metadata": {},
   "outputs": [],
   "source": [
    "# TODO: Compute LSA\n",
    "from gensim.models import LsiModel\n",
    "\n",
    "lsi = LsiModel(corpus=corpus, num_topics=4, id2word=dictionary)\n"
   ]
  },
  {
   "cell_type": "markdown",
   "metadata": {},
   "source": [
    "For each of the topic, show the most significant words."
   ]
  },
  {
   "cell_type": "code",
   "execution_count": 8,
   "metadata": {},
   "outputs": [
    {
     "data": {
      "text/plain": [
       "[(0, '0.752*\"polic\" + 0.405*\"man\" + 0.207*\"charg\"'),\n",
       " (1, '0.670*\"man\" + -0.573*\"polic\" + 0.329*\"charg\"'),\n",
       " (2, '-0.654*\"new\" + -0.298*\"plan\" + -0.241*\"say\"'),\n",
       " (3, '-0.703*\"new\" + 0.343*\"say\" + 0.334*\"plan\"')]"
      ]
     },
     "execution_count": 8,
     "metadata": {},
     "output_type": "execute_result"
    }
   ],
   "source": [
    "# TODO: Print the 3 or 4 most significant words of each topic\n",
    "lsi.print_topics(num_words=3)"
   ]
  },
  {
   "cell_type": "markdown",
   "metadata": {},
   "source": [
    "What do you think about those results?"
   ]
  },
  {
   "cell_type": "markdown",
   "metadata": {},
   "source": [
    "These results shows current topics in the news headlines"
   ]
  },
  {
   "cell_type": "markdown",
   "metadata": {},
   "source": [
    "Now let's try to use LDA instead of LSA using Gensim"
   ]
  },
  {
   "cell_type": "code",
   "execution_count": 9,
   "metadata": {},
   "outputs": [],
   "source": [
    "# TODO: Compute LDA\n",
    "from gensim.models import LdaModel\n",
    "\n",
    "lda = LdaModel(corpus=corpus, num_topics=4, id2word=dictionary, random_state=0, chunksize=512, passes=5)"
   ]
  },
  {
   "cell_type": "code",
   "execution_count": 10,
   "metadata": {
    "scrolled": true
   },
   "outputs": [
    {
     "data": {
      "text/plain": [
       "[(0, '0.016*\"report\" + 0.009*\"back\" + 0.009*\"may\"'),\n",
       " (1, '0.012*\"mine\" + 0.011*\"polic\" + 0.009*\"elect\"'),\n",
       " (2, '0.013*\"question\" + 0.010*\"council\" + 0.010*\"fund\"'),\n",
       " (3, '0.012*\"sydney\" + 0.012*\"charg\" + 0.011*\"australian\"')]"
      ]
     },
     "execution_count": 10,
     "metadata": {},
     "output_type": "execute_result"
    }
   ],
   "source": [
    "# TODO: print the most frequent words of each topic\n",
    "lda.print_topics(num_words=3)"
   ]
  },
  {
   "cell_type": "markdown",
   "metadata": {},
   "source": [
    "Now, how does it work with LDA?"
   ]
  },
  {
   "cell_type": "markdown",
   "metadata": {},
   "source": [
    "The results make more sense and no redundency"
   ]
  },
  {
   "cell_type": "markdown",
   "metadata": {},
   "source": [
    "Let's make some visualization of the LDA results using pyLDAvis."
   ]
  },
  {
   "cell_type": "code",
   "execution_count": 16,
   "metadata": {},
   "outputs": [
    {
     "data": {
      "text/html": [
       "\n",
       "<link rel=\"stylesheet\" type=\"text/css\" href=\"https://cdn.jsdelivr.net/gh/bmabey/pyLDAvis@3.4.0/pyLDAvis/js/ldavis.v1.0.0.css\">\n",
       "\n",
       "\n",
       "<div id=\"ldavis_el2439218154753448807985659\" style=\"background-color:white;\"></div>\n",
       "<script type=\"text/javascript\">\n",
       "\n",
       "var ldavis_el2439218154753448807985659_data = {\"mdsDat\": {\"x\": [-0.22849449507192818, -0.14962676324439736, 0.21956889379296382, 0.1585523645233617], \"y\": [-0.028622645804151185, -0.010718862891755413, -0.2357006398201205, 0.275042148516027], \"topics\": [1, 2, 3, 4], \"cluster\": [1, 1, 1, 1], \"Freq\": [26.89276729145999, 26.6733153900672, 23.919311757438845, 22.51460556103397]}, \"tinfo\": {\"Term\": [\"report\", \"question\", \"mine\", \"sydney\", \"charg\", \"council\", \"australian\", \"fund\", \"interview\", \"elect\", \"back\", \"win\", \"may\", \"labor\", \"trial\", \"union\", \"road\", \"cut\", \"call\", \"govern\", \"final\", \"lead\", \"stori\", \"begin\", \"want\", \"urg\", \"warn\", \"govt\", \"forc\", \"attack\", \"question\", \"council\", \"fund\", \"cut\", \"govern\", \"urg\", \"forc\", \"set\", \"want\", \"aussi\", \"support\", \"concern\", \"farmer\", \"approv\", \"group\", \"doctor\", \"claim\", \"hospit\", \"school\", \"mp\", \"citi\", \"coast\", \"team\", \"figur\", \"ban\", \"reduc\", \"titl\", \"men\", \"job\", \"seek\", \"disput\", \"draw\", \"next\", \"drug\", \"govt\", \"plan\", \"new\", \"say\", \"wa\", \"fear\", \"polic\", \"chang\", \"mine\", \"elect\", \"win\", \"road\", \"final\", \"warn\", \"commun\", \"club\", \"run\", \"rise\", \"station\", \"student\", \"drought\", \"perth\", \"woman\", \"rate\", \"found\", \"search\", \"debat\", \"stage\", \"fall\", \"turnbul\", \"held\", \"record\", \"minist\", \"world\", \"injuri\", \"telstra\", \"countri\", \"review\", \"qld\", \"econom\", \"friday\", \"eye\", \"debt\", \"polic\", \"call\", \"water\", \"help\", \"health\", \"take\", \"trade\", \"futur\", \"miss\", \"hit\", \"sydney\", \"charg\", \"australian\", \"interview\", \"trial\", \"stori\", \"lead\", \"murder\", \"market\", \"open\", \"shoot\", \"accus\", \"leav\", \"day\", \"test\", \"two\", \"busi\", \"success\", \"olymp\", \"bu\", \"risk\", \"point\", \"board\", \"arm\", \"pull\", \"full\", \"second\", \"appoint\", \"hope\", \"fourth\", \"latest\", \"sieg\", \"line\", \"sold\", \"man\", \"melbourn\", \"polic\", \"court\", \"us\", \"report\", \"back\", \"may\", \"labor\", \"union\", \"begin\", \"blaze\", \"car\", \"die\", \"drum\", \"work\", \"news\", \"pole\", \"dead\", \"judg\", \"abc\", \"great\", \"rural\", \"collaps\", \"resid\", \"state\", \"train\", \"garrett\", \"iraq\", \"pakistan\", \"big\", \"fail\", \"deni\", \"former\", \"bid\", \"italian\", \"singapor\", \"lock\", \"sunday\", \"paint\", \"attack\", \"pay\", \"crash\", \"call\", \"kill\", \"man\", \"us\"], \"Freq\": [373.0, 354.0, 336.0, 298.0, 284.0, 284.0, 259.0, 264.0, 229.0, 235.0, 203.0, 229.0, 202.0, 190.0, 195.0, 183.0, 206.0, 206.0, 366.0, 199.0, 195.0, 176.0, 175.0, 167.0, 188.0, 183.0, 179.0, 343.0, 180.0, 230.0, 353.6563943389441, 283.8475606035104, 264.1638455840438, 206.04244568702777, 198.96310057031678, 182.68975303677297, 179.83475048363903, 172.31924083773922, 187.93638231240504, 167.1869555578001, 162.57456287670502, 147.486320196499, 142.85455327433593, 142.52569223413897, 135.90209144992426, 138.26867812212964, 132.43110879864432, 127.63852796703306, 120.1608674684716, 119.46610564205713, 124.82485627166814, 115.42762988586098, 124.99841503996211, 122.94943487534391, 112.59362037643069, 119.99919276714571, 134.99723216715392, 120.29676980402668, 107.57169632379524, 105.9226374960232, 112.26036544336553, 109.14040601122305, 109.45870629136836, 166.94192536837804, 232.07848357283746, 208.7098983919453, 221.34011774631142, 162.20055522966928, 147.618907840943, 133.92635568074937, 172.323043739169, 127.49498128569849, 335.9709283598544, 234.93143285230877, 228.4688454174451, 206.07222771077875, 194.37084585951007, 179.21128473828182, 147.21565602470434, 150.34314689400978, 155.48276409865835, 140.19991638823012, 137.64280598602343, 146.02485411523156, 152.74631153041543, 145.53466408801245, 127.96104323644927, 126.62968824388855, 120.22514426264821, 116.9927036932238, 111.62939937882678, 117.16852884648286, 109.05685744592023, 115.30597749656913, 113.86451196992293, 102.20624538217447, 102.14462120177436, 100.66404165078197, 116.17866814890616, 111.87784574881458, 95.22567587347201, 95.70455029436455, 167.03565410249058, 115.5577879657351, 111.96940276622045, 113.38545914983155, 104.5249316265283, 291.36710192449266, 185.10881819641222, 129.43516855928354, 137.64600442880268, 123.0916498468472, 125.75915112473754, 121.02406684626393, 121.71443351738408, 118.86816349945379, 118.59437170043044, 298.21438806428563, 283.71566638407495, 258.8495588045647, 229.11118140115408, 194.49722031091167, 175.1093166787373, 175.7269064580001, 163.84694781859613, 152.26589961559742, 146.69731862714494, 141.03292129152305, 136.23957854095585, 133.54884753897167, 130.042734849179, 122.43676807632276, 121.85072855758884, 114.17898731910265, 110.28429563282859, 110.43403652887011, 104.8508288350656, 113.75808101837056, 103.394454639431, 104.28216995605078, 102.28001396274104, 97.05857725701486, 100.93639109656628, 93.30105664187042, 97.1839784011815, 95.90241618873091, 99.42806924270484, 101.52272772025267, 99.22529511264861, 99.9064082161708, 98.87706525413448, 229.20646067398636, 125.23905056084337, 217.1357492279874, 145.12620478429173, 113.4362020837172, 373.06162952753, 202.46770914109445, 201.56383649596802, 189.39615795135353, 182.60406604245108, 166.60784137606578, 154.32426655433443, 134.5437030700252, 120.66073811201132, 121.39428894292475, 114.25478785958173, 109.06208608696183, 114.69110641932605, 106.26921706319818, 113.36857662392403, 101.14532164646845, 105.96020693370491, 93.3902957042587, 119.81829318276556, 90.9284329015618, 91.32023223244425, 89.96114267407981, 94.83171195450737, 79.60563552812042, 79.37440228770667, 75.22619756179333, 74.0319926419498, 72.51417089708401, 71.7734726809136, 71.99424029927307, 104.85286237449778, 103.5595674822237, 99.8787662572025, 96.69493687328637, 92.90629564136275, 187.18370608821908, 135.0687374064433, 156.61074145033368, 181.20864259785918, 143.07350772530046, 112.83833636656631, 100.27648140733454], \"Total\": [373.0, 354.0, 336.0, 298.0, 284.0, 284.0, 259.0, 264.0, 229.0, 235.0, 203.0, 229.0, 202.0, 190.0, 195.0, 183.0, 206.0, 206.0, 366.0, 199.0, 195.0, 176.0, 175.0, 167.0, 188.0, 183.0, 179.0, 343.0, 180.0, 230.0, 354.442947596431, 284.5489690440646, 264.9056409157719, 206.76311699490398, 199.68131218414248, 183.38960343054998, 180.55909238425437, 173.03334759675462, 188.72922336724542, 167.91714487207608, 163.30253305519327, 148.18958364264694, 143.55554451771312, 143.2526107539683, 136.60302085332532, 138.9866227122943, 133.13920695002741, 128.347692798552, 120.86780148904417, 120.17403765855478, 125.57557050171809, 116.12357896607224, 125.75219234532251, 123.7143540642033, 113.3004212070462, 120.75364587849405, 135.85303289685305, 121.06809700279771, 108.26999065410168, 106.63452889819125, 113.03623465778061, 109.93281635559507, 110.34564978826994, 205.24259168539936, 343.3593796110067, 322.70457094687964, 442.172828302231, 329.53282071773833, 254.5871963709109, 184.5532448442322, 698.4248386871492, 169.194831786186, 336.7189746154127, 235.65340522804777, 229.18626923722394, 206.79088350979526, 195.08920917053453, 179.92895012978914, 147.92555794279835, 151.08450888467726, 156.26005468131967, 140.90333350240198, 138.36361462838485, 146.79477610994843, 153.55484285101252, 146.30881788229308, 128.67635401826692, 127.35460895166604, 120.93827378372289, 117.70139003772844, 112.33491001375764, 117.9120758347146, 109.7685200419896, 116.06828336205437, 114.63454277831958, 102.91524492454565, 102.85333816094061, 101.37136720721915, 117.01347889124116, 112.69946148949333, 95.9264175664363, 96.41735840457439, 168.4517378028729, 116.47668877981181, 112.88292885518021, 114.38324173646821, 105.56943239519133, 698.4248386871492, 366.7936507382701, 180.51528289950784, 224.35568891344346, 164.41094599002642, 195.0586842219096, 161.49002645039658, 176.48423220849003, 166.20774701654653, 182.0934014687209, 298.9405853314385, 284.4328823526279, 259.62132144439255, 229.82001376928, 195.2324505597989, 175.84259388283334, 176.4674007564013, 164.56129068727475, 152.9902704900438, 147.42484420763049, 141.76185117452252, 136.96625831001768, 134.27444878388002, 130.76037181682608, 123.15797657672766, 122.58152890501047, 114.91056773168161, 111.01478933342261, 111.18022823919264, 105.58439454312791, 114.57704814278149, 104.15298238397428, 105.04841229812094, 103.03433949972607, 97.77737653057594, 101.69680734976846, 94.01184368224379, 97.92688592911861, 96.63600588347369, 100.19389075831279, 102.32642906744167, 100.00107248938077, 100.73431678595816, 99.84512455170581, 385.38860338161203, 150.85419241774918, 698.4248386871492, 257.2863355232587, 214.19386826427962, 373.7820288037077, 203.17232959140284, 202.26713765526156, 190.1518606141784, 183.34303088852948, 167.32107883775237, 155.0639918603933, 135.23903448597284, 121.34965832404284, 122.0948750793937, 114.95423184738026, 109.74891972817937, 115.41357116791974, 106.96676981949093, 114.11750036969775, 101.82992648873339, 106.67916684099917, 94.08043959378934, 120.70913752780127, 91.62709800797639, 92.02673419605252, 90.66813521237215, 95.60889835417888, 80.29668007586623, 80.08318844906408, 75.93297188773671, 74.7290698329064, 73.21476716193489, 72.4732812853067, 72.70282825615517, 105.94258021207611, 104.63536286026199, 101.02644323568151, 97.94420793557289, 94.82633617516696, 230.0150168084429, 162.42329155405938, 201.36391294636456, 366.7936507382701, 228.63168084205358, 385.38860338161203, 214.19386826427962], \"Category\": [\"Default\", \"Default\", \"Default\", \"Default\", \"Default\", \"Default\", \"Default\", \"Default\", \"Default\", \"Default\", \"Default\", \"Default\", \"Default\", \"Default\", \"Default\", \"Default\", \"Default\", \"Default\", \"Default\", \"Default\", \"Default\", \"Default\", \"Default\", \"Default\", \"Default\", \"Default\", \"Default\", \"Default\", \"Default\", \"Default\", \"Topic1\", \"Topic1\", \"Topic1\", \"Topic1\", \"Topic1\", \"Topic1\", \"Topic1\", \"Topic1\", \"Topic1\", \"Topic1\", \"Topic1\", \"Topic1\", \"Topic1\", \"Topic1\", \"Topic1\", \"Topic1\", \"Topic1\", \"Topic1\", \"Topic1\", \"Topic1\", \"Topic1\", \"Topic1\", \"Topic1\", \"Topic1\", \"Topic1\", \"Topic1\", \"Topic1\", \"Topic1\", \"Topic1\", \"Topic1\", \"Topic1\", \"Topic1\", \"Topic1\", \"Topic1\", \"Topic1\", \"Topic1\", \"Topic1\", \"Topic1\", \"Topic1\", \"Topic1\", \"Topic1\", \"Topic1\", \"Topic2\", \"Topic2\", \"Topic2\", \"Topic2\", \"Topic2\", \"Topic2\", \"Topic2\", \"Topic2\", \"Topic2\", \"Topic2\", \"Topic2\", \"Topic2\", \"Topic2\", \"Topic2\", \"Topic2\", \"Topic2\", \"Topic2\", \"Topic2\", \"Topic2\", \"Topic2\", \"Topic2\", \"Topic2\", \"Topic2\", \"Topic2\", \"Topic2\", \"Topic2\", \"Topic2\", \"Topic2\", \"Topic2\", \"Topic2\", \"Topic2\", \"Topic2\", \"Topic2\", \"Topic2\", \"Topic2\", \"Topic2\", \"Topic2\", \"Topic2\", \"Topic2\", \"Topic2\", \"Topic2\", \"Topic2\", \"Topic2\", \"Topic2\", \"Topic2\", \"Topic3\", \"Topic3\", \"Topic3\", \"Topic3\", \"Topic3\", \"Topic3\", \"Topic3\", \"Topic3\", \"Topic3\", \"Topic3\", \"Topic3\", \"Topic3\", \"Topic3\", \"Topic3\", \"Topic3\", \"Topic3\", \"Topic3\", \"Topic3\", \"Topic3\", \"Topic3\", \"Topic3\", \"Topic3\", \"Topic3\", \"Topic3\", \"Topic3\", \"Topic3\", \"Topic3\", \"Topic3\", \"Topic3\", \"Topic3\", \"Topic3\", \"Topic3\", \"Topic3\", \"Topic3\", \"Topic3\", \"Topic3\", \"Topic3\", \"Topic3\", \"Topic3\", \"Topic4\", \"Topic4\", \"Topic4\", \"Topic4\", \"Topic4\", \"Topic4\", \"Topic4\", \"Topic4\", \"Topic4\", \"Topic4\", \"Topic4\", \"Topic4\", \"Topic4\", \"Topic4\", \"Topic4\", \"Topic4\", \"Topic4\", \"Topic4\", \"Topic4\", \"Topic4\", \"Topic4\", \"Topic4\", \"Topic4\", \"Topic4\", \"Topic4\", \"Topic4\", \"Topic4\", \"Topic4\", \"Topic4\", \"Topic4\", \"Topic4\", \"Topic4\", \"Topic4\", \"Topic4\", \"Topic4\", \"Topic4\", \"Topic4\", \"Topic4\", \"Topic4\", \"Topic4\", \"Topic4\", \"Topic4\"], \"logprob\": [30.0, 29.0, 28.0, 27.0, 26.0, 25.0, 24.0, 23.0, 22.0, 21.0, 20.0, 19.0, 18.0, 17.0, 16.0, 15.0, 14.0, 13.0, 12.0, 11.0, 10.0, 9.0, 8.0, 7.0, 6.0, 5.0, 4.0, 3.0, 2.0, 1.0, -4.3569, -4.5768, -4.6486, -4.8971, -4.9321, -5.0174, -5.0332, -5.0759, -4.9891, -5.1061, -5.1341, -5.2315, -5.2634, -5.2657, -5.3133, -5.296, -5.3391, -5.376, -5.4364, -5.4422, -5.3983, -5.4766, -5.3969, -5.4134, -5.5014, -5.4377, -5.32, -5.4353, -5.5471, -5.5625, -5.5044, -5.5326, -5.5297, -5.1076, -4.7781, -4.8843, -4.8255, -5.1364, -5.2306, -5.3279, -5.0758, -5.3771, -4.4, -4.7577, -4.7856, -4.8888, -4.9473, -5.0285, -5.2251, -5.2041, -5.1705, -5.2739, -5.2924, -5.2332, -5.1882, -5.2366, -5.3653, -5.3758, -5.4277, -5.4549, -5.5018, -5.4534, -5.5251, -5.4694, -5.482, -5.59, -5.5906, -5.6052, -5.4619, -5.4996, -5.6608, -5.6558, -5.0988, -5.4672, -5.4988, -5.4862, -5.5676, -4.5424, -4.9961, -5.3538, -5.2923, -5.4041, -5.3826, -5.421, -5.4153, -5.439, -5.4413, -4.4102, -4.4601, -4.5518, -4.6738, -4.8376, -4.9426, -4.9391, -5.0091, -5.0824, -5.1197, -5.159, -5.1936, -5.2136, -5.2402, -5.3004, -5.3052, -5.3703, -5.405, -5.4036, -5.4555, -5.374, -5.4695, -5.4609, -5.4803, -5.5327, -5.4936, -5.5722, -5.5314, -5.5447, -5.5086, -5.4878, -5.5106, -5.5038, -5.5142, -4.6734, -5.2778, -4.7275, -5.1304, -5.3768, -4.1258, -4.7369, -4.7414, -4.8037, -4.8402, -4.9319, -5.0085, -5.1456, -5.2545, -5.2485, -5.3091, -5.3556, -5.3053, -5.3815, -5.3169, -5.431, -5.3845, -5.5107, -5.2615, -5.5374, -5.5331, -5.5481, -5.4954, -5.6704, -5.6733, -5.727, -5.743, -5.7637, -5.774, -5.7709, -5.395, -5.4074, -5.4436, -5.476, -5.5159, -4.8154, -5.1417, -4.9938, -4.8479, -5.0842, -5.3216, -5.4396], \"loglift\": [30.0, 29.0, 28.0, 27.0, 26.0, 25.0, 24.0, 23.0, 22.0, 21.0, 20.0, 19.0, 18.0, 17.0, 16.0, 15.0, 14.0, 13.0, 12.0, 11.0, 10.0, 9.0, 8.0, 7.0, 6.0, 5.0, 4.0, 3.0, 2.0, 1.0, 1.3111, 1.3108, 1.3105, 1.3098, 1.3097, 1.3095, 1.3093, 1.3092, 1.3091, 1.309, 1.3088, 1.3086, 1.3084, 1.3082, 1.3082, 1.3081, 1.308, 1.3078, 1.3074, 1.3074, 1.3073, 1.3073, 1.3073, 1.3071, 1.3071, 1.307, 1.307, 1.3069, 1.3068, 1.3066, 1.3064, 1.3061, 1.3052, 1.1068, 0.9216, 0.8775, 0.6213, 0.6045, 0.7683, 0.9927, -0.0861, 1.0303, 1.3193, 1.3184, 1.3184, 1.318, 1.3178, 1.3175, 1.3167, 1.3166, 1.3165, 1.3165, 1.3163, 1.3162, 1.3162, 1.3162, 1.3159, 1.3158, 1.3156, 1.3155, 1.3152, 1.3152, 1.315, 1.3149, 1.3148, 1.3146, 1.3146, 1.3145, 1.3143, 1.3142, 1.3142, 1.3141, 1.3131, 1.3136, 1.3134, 1.3127, 1.3116, 0.4473, 0.6377, 0.9889, 0.833, 1.0321, 0.8826, 1.0331, 0.95, 0.9863, 0.8927, 1.4281, 1.428, 1.4275, 1.4274, 1.4267, 1.4263, 1.4263, 1.4261, 1.4257, 1.4255, 1.4253, 1.4252, 1.4251, 1.425, 1.4246, 1.4245, 1.4241, 1.4239, 1.4237, 1.4235, 1.4233, 1.4232, 1.4232, 1.4231, 1.4231, 1.423, 1.4229, 1.4229, 1.4229, 1.4228, 1.4226, 1.4227, 1.4222, 1.4207, 0.9109, 1.2444, 0.2622, 0.8579, 0.7948, 1.4891, 1.4875, 1.4875, 1.487, 1.487, 1.4867, 1.4862, 1.4859, 1.4853, 1.4853, 1.4849, 1.4847, 1.4847, 1.4845, 1.4844, 1.4843, 1.4842, 1.4836, 1.4836, 1.4834, 1.4833, 1.4832, 1.4828, 1.4824, 1.4821, 1.4817, 1.4816, 1.4814, 1.4813, 1.4812, 1.4807, 1.4807, 1.4796, 1.4782, 1.4706, 1.285, 1.3066, 1.2397, 0.7859, 1.0223, 0.2627, 0.7321]}, \"token.table\": {\"Topic\": [4, 3, 3, 1, 3, 3, 4, 1, 3, 4, 1, 4, 4, 4, 4, 3, 3, 3, 2, 4, 4, 1, 2, 3, 1, 1, 2, 1, 4, 2, 1, 1, 2, 1, 3, 2, 4, 1, 3, 4, 2, 2, 4, 4, 1, 1, 1, 2, 1, 2, 4, 2, 2, 2, 4, 2, 1, 1, 4, 1, 2, 1, 4, 2, 3, 2, 3, 1, 1, 2, 4, 1, 1, 2, 4, 1, 2, 3, 2, 1, 2, 3, 2, 4, 3, 1, 2, 3, 4, 4, 1, 4, 3, 4, 4, 3, 3, 3, 3, 4, 2, 3, 4, 3, 4, 2, 3, 1, 2, 2, 2, 3, 1, 3, 1, 2, 3, 4, 4, 1, 3, 3, 1, 2, 3, 4, 4, 2, 4, 2, 1, 2, 3, 4, 1, 2, 3, 4, 3, 2, 4, 1, 2, 2, 1, 4, 4, 2, 2, 3, 2, 2, 4, 1, 2, 3, 4, 1, 2, 3, 1, 1, 3, 3, 3, 4, 3, 2, 4, 2, 3, 2, 3, 2, 4, 1, 3, 2, 3, 1, 2, 3, 1, 1, 2, 4, 3, 2, 3, 4, 1, 3, 4, 1, 2, 1, 2, 1, 2, 2, 2, 4, 2], \"Freq\": [0.9918498763835873, 0.992945282130504, 0.9905349187781841, 0.9982366062814579, 0.9899612157971002, 0.1825967738227183, 0.8129903977344839, 0.9945381106094033, 0.9976068165706273, 0.9942298757229368, 0.9973484546319805, 0.9980810616332225, 0.9903328622419078, 0.9877132177953463, 0.9931383692137166, 0.9900197225718594, 0.9944651428304663, 0.9920758573414431, 0.5043707807581678, 0.4934654665796128, 0.9982325037524752, 0.7506139440505593, 0.24232418666199157, 0.9984780861163188, 0.9954165408174657, 0.9914434900423058, 0.99282183929588, 0.990324282319954, 0.9941252373902684, 0.9937430829690955, 0.9919725556047477, 0.9980707396484026, 0.9903424146346893, 0.4353126635047247, 0.5635744304302239, 0.21850985787964833, 0.7796829019796543, 0.9963092208804204, 0.9941849980520763, 0.9909619611667961, 0.9970186470642419, 0.9946060864184654, 0.9970666141509421, 0.9971185883102437, 0.9908327213754259, 0.9929013117015109, 0.9915146688084683, 0.9963866795686095, 0.8136712688562299, 0.18514675578764514, 0.991032587742264, 0.9959074319092901, 0.99722726167519, 0.9879069545899467, 0.990243825668691, 0.9929987209293191, 0.9961301075511955, 0.7260777241445932, 0.2709245239345497, 0.9942257786527133, 0.9944168661343928, 0.9969035489884689, 0.9934695755882292, 0.9922417134430013, 0.9880841960594914, 0.9921783668785478, 0.9931481885427149, 0.9965812697961389, 0.30597634317952543, 0.6912798864426315, 0.9936313631402462, 0.9965880022687642, 0.6756768965007852, 0.3232764461706343, 0.9936335569435836, 0.9955855965002941, 0.7481253712113638, 0.24937512373712126, 0.9944646459702232, 0.3744054826815969, 0.6150947215483378, 0.008914416254323735, 0.6535107754601488, 0.345976292890667, 0.9934185412811805, 0.9972910085801252, 0.9913387850626751, 0.9964319305536932, 0.9963052012164647, 0.9911029143316196, 0.9975063205190048, 0.9902074583996541, 0.37177699821365023, 0.6254601264064938, 0.9939424173370802, 0.9968099241768075, 0.9973513478727637, 0.9979560609902651, 0.9927103611818955, 0.9898398557565077, 0.11157569171141621, 0.5942054279514957, 0.2932105386834891, 0.9935272322424696, 0.9986792829603548, 0.16572293815189026, 0.8286146907594514, 0.9911777170927777, 0.9978647635873984, 0.9917033498746989, 0.715971440176932, 0.2827786360362673, 0.9902305216548476, 0.9965891693913522, 0.49980456928697475, 0.17187849441543024, 0.12212419340043727, 0.20580188147110726, 0.9931760628711949, 0.9878051396602227, 0.9893845492324993, 0.997118231937677, 0.010545593559080049, 0.010545593559080049, 0.010545593559080049, 0.9807402009944445, 0.9864742092561283, 0.16623231644713704, 0.8311615822356853, 0.9978892736147897, 0.6476511918834997, 0.35326428648190894, 0.9889299148465701, 0.9964166157953988, 0.24626844647065205, 0.41665184838930086, 0.3106991446751831, 0.025772279281812426, 0.9920495255839387, 0.9913818769588962, 0.00593641842490357, 0.998750299309283, 0.9972155781829567, 0.9911068090522772, 0.9937588147089786, 0.9979077945341284, 0.9931559765439499, 0.995671335416356, 0.9935889841641924, 0.9949636672253731, 0.9961754430544913, 0.9919361689467634, 0.9885157892708161, 0.4916050536245713, 0.26401012139097346, 0.11834936476147087, 0.12745316205081478, 0.9928202426258012, 0.9940409366660529, 0.9892370616019001, 0.9940494987435349, 0.9940280436626425, 0.9946258378526349, 0.9899893824690023, 0.009556998443590013, 0.9939278381333613, 0.9915356452756173, 0.9922647801062113, 0.9888430877720253, 0.9973720357815062, 0.9952082492402564, 0.9945858011367302, 0.9908589716783158, 0.01020989419463981, 0.9903597368800615, 0.9981474074557618, 0.9968536044364947, 0.6459594480636166, 0.35373969774912334, 0.9940184554138273, 0.993793568485165, 0.9905976323343845, 0.9937209138532761, 0.24769331505612474, 0.7492722780447774, 0.9926309809856884, 0.993687265839951, 0.9907960785572916, 0.9952559826084312, 0.99812902139303, 0.9978755424339116, 0.5275594531052439, 0.4668667726595078, 0.5813332410651837, 0.41636029427641535, 0.9961361396277966, 0.994837128049049, 0.2825245551557621, 0.7146209336292806, 0.9948239951670226, 0.9947437582963308, 0.9916990281084462, 0.9963365670459982], \"Term\": [\"abc\", \"accus\", \"appoint\", \"approv\", \"arm\", \"attack\", \"attack\", \"aussi\", \"australian\", \"back\", \"ban\", \"begin\", \"bid\", \"big\", \"blaze\", \"board\", \"bu\", \"busi\", \"call\", \"call\", \"car\", \"chang\", \"chang\", \"charg\", \"citi\", \"claim\", \"club\", \"coast\", \"collaps\", \"commun\", \"concern\", \"council\", \"countri\", \"court\", \"court\", \"crash\", \"crash\", \"cut\", \"day\", \"dead\", \"debat\", \"debt\", \"deni\", \"die\", \"disput\", \"doctor\", \"draw\", \"drought\", \"drug\", \"drug\", \"drum\", \"econom\", \"elect\", \"eye\", \"fail\", \"fall\", \"farmer\", \"fear\", \"fear\", \"figur\", \"final\", \"forc\", \"former\", \"found\", \"fourth\", \"friday\", \"full\", \"fund\", \"futur\", \"futur\", \"garrett\", \"govern\", \"govt\", \"govt\", \"great\", \"group\", \"health\", \"health\", \"held\", \"help\", \"help\", \"help\", \"hit\", \"hit\", \"hope\", \"hospit\", \"injuri\", \"interview\", \"iraq\", \"italian\", \"job\", \"judg\", \"kill\", \"kill\", \"labor\", \"latest\", \"lead\", \"leav\", \"line\", \"lock\", \"man\", \"man\", \"man\", \"market\", \"may\", \"melbourn\", \"melbourn\", \"men\", \"mine\", \"minist\", \"miss\", \"miss\", \"mp\", \"murder\", \"new\", \"new\", \"new\", \"new\", \"news\", \"next\", \"olymp\", \"open\", \"paint\", \"paint\", \"paint\", \"paint\", \"pakistan\", \"pay\", \"pay\", \"perth\", \"plan\", \"plan\", \"point\", \"pole\", \"polic\", \"polic\", \"polic\", \"polic\", \"pull\", \"qld\", \"qld\", \"question\", \"rate\", \"record\", \"reduc\", \"report\", \"resid\", \"review\", \"rise\", \"risk\", \"road\", \"run\", \"rural\", \"say\", \"say\", \"say\", \"say\", \"school\", \"search\", \"second\", \"seek\", \"set\", \"shoot\", \"sieg\", \"singapor\", \"singapor\", \"sold\", \"stage\", \"state\", \"station\", \"stori\", \"student\", \"success\", \"sunday\", \"sunday\", \"support\", \"sydney\", \"take\", \"take\", \"team\", \"telstra\", \"test\", \"titl\", \"trade\", \"trade\", \"train\", \"trial\", \"turnbul\", \"two\", \"union\", \"urg\", \"us\", \"us\", \"wa\", \"wa\", \"want\", \"warn\", \"water\", \"water\", \"win\", \"woman\", \"work\", \"world\"]}, \"R\": 30, \"lambda.step\": 0.01, \"plot.opts\": {\"xlab\": \"PC1\", \"ylab\": \"PC2\"}, \"topic.order\": [3, 2, 4, 1]};\n",
       "\n",
       "function LDAvis_load_lib(url, callback){\n",
       "  var s = document.createElement('script');\n",
       "  s.src = url;\n",
       "  s.async = true;\n",
       "  s.onreadystatechange = s.onload = callback;\n",
       "  s.onerror = function(){console.warn(\"failed to load library \" + url);};\n",
       "  document.getElementsByTagName(\"head\")[0].appendChild(s);\n",
       "}\n",
       "\n",
       "if(typeof(LDAvis) !== \"undefined\"){\n",
       "   // already loaded: just create the visualization\n",
       "   !function(LDAvis){\n",
       "       new LDAvis(\"#\" + \"ldavis_el2439218154753448807985659\", ldavis_el2439218154753448807985659_data);\n",
       "   }(LDAvis);\n",
       "}else if(typeof define === \"function\" && define.amd){\n",
       "   // require.js is available: use it to load d3/LDAvis\n",
       "   require.config({paths: {d3: \"https://d3js.org/d3.v5\"}});\n",
       "   require([\"d3\"], function(d3){\n",
       "      window.d3 = d3;\n",
       "      LDAvis_load_lib(\"https://cdn.jsdelivr.net/gh/bmabey/pyLDAvis@3.4.0/pyLDAvis/js/ldavis.v3.0.0.js\", function(){\n",
       "        new LDAvis(\"#\" + \"ldavis_el2439218154753448807985659\", ldavis_el2439218154753448807985659_data);\n",
       "      });\n",
       "    });\n",
       "}else{\n",
       "    // require.js not available: dynamically load d3 & LDAvis\n",
       "    LDAvis_load_lib(\"https://d3js.org/d3.v5.js\", function(){\n",
       "         LDAvis_load_lib(\"https://cdn.jsdelivr.net/gh/bmabey/pyLDAvis@3.4.0/pyLDAvis/js/ldavis.v3.0.0.js\", function(){\n",
       "                 new LDAvis(\"#\" + \"ldavis_el2439218154753448807985659\", ldavis_el2439218154753448807985659_data);\n",
       "            })\n",
       "         });\n",
       "}\n",
       "</script>"
      ],
      "text/plain": [
       "PreparedData(topic_coordinates=              x         y  topics  cluster       Freq\n",
       "topic                                                \n",
       "2     -0.228494 -0.028623       1        1  26.892767\n",
       "1     -0.149627 -0.010719       2        1  26.673315\n",
       "3      0.219569 -0.235701       3        1  23.919312\n",
       "0      0.158552  0.275042       4        1  22.514606, topic_info=          Term        Freq       Total Category  logprob  loglift\n",
       "1133    report  373.000000  373.000000  Default  30.0000  30.0000\n",
       "647   question  354.000000  354.000000  Default  29.0000  29.0000\n",
       "1043      mine  336.000000  336.000000  Default  28.0000  28.0000\n",
       "886     sydney  298.000000  298.000000  Default  27.0000  27.0000\n",
       "86       charg  284.000000  284.000000  Default  26.0000  26.0000\n",
       "...        ...         ...         ...      ...      ...      ...\n",
       "0        crash  156.610741  201.363913   Topic4  -4.9938   1.2397\n",
       "177       call  181.208643  366.793651   Topic4  -4.8479   0.7859\n",
       "688       kill  143.073508  228.631681   Topic4  -5.0842   1.0223\n",
       "139        man  112.838336  385.388603   Topic4  -5.3216   0.2627\n",
       "124         us  100.276481  214.193868   Topic4  -5.4396   0.7321\n",
       "\n",
       "[198 rows x 6 columns], token_table=      Topic      Freq     Term\n",
       "term                          \n",
       "496       4  0.991850      abc\n",
       "101       3  0.992945    accus\n",
       "833       3  0.990535  appoint\n",
       "68        1  0.998237   approv\n",
       "1411      3  0.989961      arm\n",
       "...     ...       ...      ...\n",
       "600       2  0.714621    water\n",
       "500       2  0.994824      win\n",
       "241       2  0.994744    woman\n",
       "279       4  0.991699     work\n",
       "151       2  0.996337    world\n",
       "\n",
       "[203 rows x 3 columns], R=30, lambda_step=0.01, plot_opts={'xlab': 'PC1', 'ylab': 'PC2'}, topic_order=[3, 2, 4, 1])"
      ]
     },
     "execution_count": 16,
     "metadata": {},
     "output_type": "execute_result"
    }
   ],
   "source": [
    "# TODO: show visualization results of the LDA\n",
    "import pyLDAvis\n",
    "import pyLDAvis.gensim_models\n",
    "\n",
    "pyLDAvis.enable_notebook()\n",
    "vis = pyLDAvis.gensim_models.prepare(lda, corpus, dictionary)\n",
    "vis"
   ]
  },
  {
   "cell_type": "markdown",
   "metadata": {},
   "source": [
    "Depending on your results, you can try to fine tune the algorithm: number of topics, hyperparameters...\n",
    "And check with others their results."
   ]
  }
 ],
 "metadata": {
  "kernelspec": {
   "display_name": "Python 3 (ipykernel)",
   "language": "python",
   "name": "python3"
  },
  "language_info": {
   "codemirror_mode": {
    "name": "ipython",
    "version": 3
   },
   "file_extension": ".py",
   "mimetype": "text/x-python",
   "name": "python",
   "nbconvert_exporter": "python",
   "pygments_lexer": "ipython3",
   "version": "3.9.7"
  },
  "toc": {
   "base_numbering": 1,
   "nav_menu": {},
   "number_sections": true,
   "sideBar": true,
   "skip_h1_title": false,
   "title_cell": "Table of Contents",
   "title_sidebar": "Contents",
   "toc_cell": false,
   "toc_position": {},
   "toc_section_display": true,
   "toc_window_display": false
  }
 },
 "nbformat": 4,
 "nbformat_minor": 2
}
