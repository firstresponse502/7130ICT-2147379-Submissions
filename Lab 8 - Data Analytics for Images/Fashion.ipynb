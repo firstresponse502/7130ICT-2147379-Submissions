{
 "cells": [
  {
   "cell_type": "markdown",
   "metadata": {
    "id": "Q28i6wpEeR3e"
   },
   "source": [
    "# Image Classification by MLP - Fashion MNIST"
   ]
  },
  {
   "cell_type": "markdown",
   "metadata": {
    "id": "8_nEZtufeR3f"
   },
   "source": [
    "In this exercise, we will try to use a neural network on a simple classification task: classifying images of clothes into 10 classes."
   ]
  },
  {
   "cell_type": "markdown",
   "metadata": {
    "id": "vM4NBqgDeR3f"
   },
   "source": [
    "We will first download the data:"
   ]
  },
  {
   "cell_type": "code",
   "execution_count": 1,
   "metadata": {
    "colab": {
     "base_uri": "https://localhost:8080/"
    },
    "id": "XLtmn3kyeR3g",
    "outputId": "ce5dacb0-c09f-475e-c2f2-246e4d707589",
    "scrolled": true
   },
   "outputs": [
    {
     "name": "stdout",
     "output_type": "stream",
     "text": [
      "Downloading data from https://storage.googleapis.com/tensorflow/tf-keras-datasets/train-labels-idx1-ubyte.gz\n",
      "29515/29515 [==============================] - 0s 1us/step\n",
      "Downloading data from https://storage.googleapis.com/tensorflow/tf-keras-datasets/train-images-idx3-ubyte.gz\n",
      "26421880/26421880 [==============================] - 2s 0us/step\n",
      "Downloading data from https://storage.googleapis.com/tensorflow/tf-keras-datasets/t10k-labels-idx1-ubyte.gz\n",
      "5148/5148 [==============================] - 0s 0us/step\n",
      "Downloading data from https://storage.googleapis.com/tensorflow/tf-keras-datasets/t10k-images-idx3-ubyte.gz\n",
      "4422102/4422102 [==============================] - 1s 0us/step\n"
     ]
    },
    {
     "data": {
      "text/plain": [
       "(60000, 28, 28)"
      ]
     },
     "execution_count": 1,
     "metadata": {},
     "output_type": "execute_result"
    }
   ],
   "source": [
    "from tensorflow.keras.datasets import fashion_mnist\n",
    "\n",
    "#TODO: load dataset\n",
    "(X_train, y_train), (X_test, y_test) = fashion_mnist.load_data()\n",
    "\n",
    "#TODO: Resample the dataset if needed\n",
    "#X_train = ...\n",
    "#y_train = ...\n",
    "#X_test = ...\n",
    "#y_test = ...\n",
    "\n",
    "X_train.shape"
   ]
  },
  {
   "cell_type": "markdown",
   "metadata": {
    "id": "gy38-FXceR3g"
   },
   "source": [
    "This dataset contains 10 classes:\n",
    "* 0:\tT-shirt/top\n",
    "* 1:\tTrouser\n",
    "* 2:\tPullover\n",
    "* 3:\tDress\n",
    "* 4:\tCoat\n",
    "* 5:\tSandal\n",
    "* 6:\tShirt\n",
    "* 7:\tSneaker\n",
    "* 8:\tBag\n",
    "* 9:\tAnkle boot"
   ]
  },
  {
   "cell_type": "markdown",
   "metadata": {
    "id": "Bojcy4NgeR3h"
   },
   "source": [
    "Now begin by exploring the data. Try to display some images with the associated label."
   ]
  },
  {
   "cell_type": "code",
   "execution_count": 3,
   "metadata": {
    "colab": {
     "base_uri": "https://localhost:8080/",
     "height": 452
    },
    "id": "sms7YhwKeR3h",
    "outputId": "351b2b38-ab91-424f-d6a1-16c4bcdc7b48",
    "scrolled": true
   },
   "outputs": [
    {
     "data": {
      "image/png": "[encoded data removed]",
      "text/plain": [
       "<Figure size 640x480 with 1 Axes>"
      ]
     },
     "metadata": {},
     "output_type": "display_data"
    }
   ],
   "source": [
    "# TODO: Explore the data, display some input images\n",
    "%matplotlib inline\n",
    "import matplotlib.pyplot as plt\n",
    "import numpy as np\n",
    "\n",
    "label_class = ['top', 'trouser', 'pullover', 'dress', 'coat', 'sandal', 'shirt', 'sneaker', 'bag', 'ankle boot']\n",
    "\n",
    "# np.random.seed(0)\n",
    "idx = np.random.randint(X_train.shape[0])\n",
    "\n",
    "plt.imshow(X_train[idx], cmap = 'gray_r')\n",
    "plt.title(label_class[y_train[idx]])\n",
    "plt.show()"
   ]
  },
  {
   "cell_type": "markdown",
   "metadata": {
    "id": "KvKAIkTreR3h"
   },
   "source": [
    "**Before going further**: what methods could you use to perform such a classification task?"
   ]
  },
  {
   "cell_type": "markdown",
   "metadata": {
    "id": "sNb43QeDeR3h"
   },
   "source": [
    "---"
   ]
  },
  {
   "cell_type": "markdown",
   "metadata": {
    "id": "Wyw2GEb9eR3h"
   },
   "source": [
    "The first method you will try is using neural networks. First step is the data preparation: data rescaling, label preparation.\n",
    "\n",
    "Hint: you can use the Keras function `to_categorical`"
   ]
  },
  {
   "cell_type": "code",
   "execution_count": 20,
   "metadata": {
    "colab": {
     "base_uri": "https://localhost:8080/"
    },
    "id": "BijqjhZreR3h",
    "outputId": "346213b6-d786-4a23-e896-c04bcb894fc2"
   },
   "outputs": [
    {
     "name": "stdout",
     "output_type": "stream",
     "text": [
      "y_train_cat [[0. 0. 0. ... 0. 0. 1.]\n",
      " [1. 0. 0. ... 0. 0. 0.]\n",
      " [1. 0. 0. ... 0. 0. 0.]\n",
      " ...\n",
      " [0. 0. 0. ... 0. 0. 0.]\n",
      " [1. 0. 0. ... 0. 0. 0.]\n",
      " [0. 0. 0. ... 0. 0. 0.]]\n",
      "X_train_norm [[[0. 0. 0. ... 0. 0. 0.]\n",
      "  [0. 0. 0. ... 0. 0. 0.]\n",
      "  [0. 0. 0. ... 0. 0. 0.]\n",
      "  ...\n",
      "  [0. 0. 0. ... 0. 0. 0.]\n",
      "  [0. 0. 0. ... 0. 0. 0.]\n",
      "  [0. 0. 0. ... 0. 0. 0.]]\n",
      "\n",
      " [[0. 0. 0. ... 0. 0. 0.]\n",
      "  [0. 0. 0. ... 0. 0. 0.]\n",
      "  [0. 0. 0. ... 0. 0. 0.]\n",
      "  ...\n",
      "  [0. 0. 0. ... 0. 0. 0.]\n",
      "  [0. 0. 0. ... 0. 0. 0.]\n",
      "  [0. 0. 0. ... 0. 0. 0.]]\n",
      "\n",
      " [[0. 0. 0. ... 0. 0. 0.]\n",
      "  [0. 0. 0. ... 0. 0. 0.]\n",
      "  [0. 0. 0. ... 0. 0. 0.]\n",
      "  ...\n",
      "  [0. 0. 0. ... 0. 0. 0.]\n",
      "  [0. 0. 0. ... 0. 0. 0.]\n",
      "  [0. 0. 0. ... 0. 0. 0.]]\n",
      "\n",
      " ...\n",
      "\n",
      " [[0. 0. 0. ... 0. 0. 0.]\n",
      "  [0. 0. 0. ... 0. 0. 0.]\n",
      "  [0. 0. 0. ... 0. 0. 0.]\n",
      "  ...\n",
      "  [0. 0. 0. ... 0. 0. 0.]\n",
      "  [0. 0. 0. ... 0. 0. 0.]\n",
      "  [0. 0. 0. ... 0. 0. 0.]]\n",
      "\n",
      " [[0. 0. 0. ... 0. 0. 0.]\n",
      "  [0. 0. 0. ... 0. 0. 0.]\n",
      "  [0. 0. 0. ... 0. 0. 0.]\n",
      "  ...\n",
      "  [0. 0. 0. ... 0. 0. 0.]\n",
      "  [0. 0. 0. ... 0. 0. 0.]\n",
      "  [0. 0. 0. ... 0. 0. 0.]]\n",
      "\n",
      " [[0. 0. 0. ... 0. 0. 0.]\n",
      "  [0. 0. 0. ... 0. 0. 0.]\n",
      "  [0. 0. 0. ... 0. 0. 0.]\n",
      "  ...\n",
      "  [0. 0. 0. ... 0. 0. 0.]\n",
      "  [0. 0. 0. ... 0. 0. 0.]\n",
      "  [0. 0. 0. ... 0. 0. 0.]]]\n",
      "(60000, 28, 28)\n",
      "(60000, 784)\n",
      "(10000, 28, 28)\n",
      "(10000, 784)\n"
     ]
    }
   ],
   "source": [
    "# TODO: Make the data preparation\n",
    "from tensorflow.keras.utils import to_categorical\n",
    "\n",
    "\n",
    "y_train_cat = to_categorical(y_train, num_classes = 10)\n",
    "y_test_cat = to_categorical(y_test, num_classes = 10)\n",
    "\n",
    "print('y_train_cat', y_train_cat)\n",
    "\n",
    "X_train_norm = X_train/255\n",
    "X_test_norm = X_test/255\n",
    "\n",
    "print('X_train_norm', X_train_norm)\n",
    "\n",
    "# TODO: reshape the image data (2D array) into input 1D array for a neural network\n",
    "print(np.shape(X_train_norm))\n",
    "X_train_norm = X_train_norm.reshape(X_train.shape[0], np.prod(X_train_norm.shape[1:]))\n",
    "print(np.shape(X_train_norm))\n",
    "\n",
    "\n",
    "\n",
    "print(np.shape(X_test_norm))\n",
    "X_test_norm = X_test_norm.reshape(X_test.shape[0], np.prod(X_test_norm.shape[1:]))\n",
    "print(np.shape(X_test_norm))"
   ]
  },
  {
   "cell_type": "markdown",
   "metadata": {
    "id": "EVcjGmySeR3i"
   },
   "source": [
    "Next step: model building with Keras. Build your neural network architecture. At first, I would recommend a light architecture: no more than 2 hidden layers, with about 10 units per layer. Put that model into a function, so that you can reuse it later."
   ]
  },
  {
   "cell_type": "code",
   "execution_count": 11,
   "metadata": {
    "colab": {
     "base_uri": "https://localhost:8080/"
    },
    "id": "f9epQdPweR3i",
    "outputId": "4d827b78-40a1-44f6-b7f8-6d0c31695a82"
   },
   "outputs": [
    {
     "name": "stdout",
     "output_type": "stream",
     "text": [
      "Model: \"sequential\"\n",
      "_________________________________________________________________\n",
      " Layer (type)                Output Shape              Param #   \n",
      "=================================================================\n",
      " dense (Dense)               (None, 10)                7850      \n",
      "                                                                 \n",
      " dense_1 (Dense)             (None, 10)                110       \n",
      "                                                                 \n",
      " dense_2 (Dense)             (None, 10)                110       \n",
      "                                                                 \n",
      "=================================================================\n",
      "Total params: 8,070\n",
      "Trainable params: 8,070\n",
      "Non-trainable params: 0\n",
      "_________________________________________________________________\n"
     ]
    }
   ],
   "source": [
    "# TODO: Build your model\n",
    "from tensorflow.keras.models import Sequential\n",
    "from tensorflow.keras.layers import Dense\n",
    "\n",
    "def my_model(input_dim):\n",
    "    # Create the Sequential object\n",
    "    model = Sequential()\n",
    "\n",
    "    # Add 2 dense layers with 10 neurons each using sigmoid or relu activation\n",
    "    model.add(Dense(10, input_dim=input_dim, activation='sigmoid'))\n",
    "    model.add(Dense(10, activation='sigmoid'))\n",
    "    \n",
    "    # Add the output layer with one unit: the predicted result\n",
    "    model.add(Dense(10, activation='softmax'))\n",
    "    \n",
    "    return model\n",
    "  \n",
    "my_model(X_train_norm.shape[1]).summary()"
   ]
  },
  {
   "cell_type": "markdown",
   "metadata": {
    "id": "aCt-tFjZeR3i"
   },
   "source": [
    "Now compile and fit your model on your training data. Since this is a multiclass classification, the loss is not `binary_crossentropy` anymore, but `categorical_crossentropy`."
   ]
  },
  {
   "cell_type": "code",
   "execution_count": 12,
   "metadata": {
    "colab": {
     "base_uri": "https://localhost:8080/"
    },
    "id": "tKB7XgTpeR3i",
    "outputId": "3a967940-6ef7-4ed0-be01-367d03d5c4a2",
    "scrolled": true
   },
   "outputs": [
    {
     "name": "stdout",
     "output_type": "stream",
     "text": [
      "Epoch 1/25\n",
      "469/469 [==============================] - 2s 3ms/step - loss: 1.9474 - accuracy: 0.4629\n",
      "Epoch 2/25\n",
      "469/469 [==============================] - 1s 3ms/step - loss: 1.3058 - accuracy: 0.6662\n",
      "Epoch 3/25\n",
      "469/469 [==============================] - 1s 3ms/step - loss: 0.9381 - accuracy: 0.7325\n",
      "Epoch 4/25\n",
      "469/469 [==============================] - 1s 3ms/step - loss: 0.7559 - accuracy: 0.7617\n",
      "Epoch 5/25\n",
      "469/469 [==============================] - 2s 4ms/step - loss: 0.6546 - accuracy: 0.7907\n",
      "Epoch 6/25\n",
      "469/469 [==============================] - 2s 4ms/step - loss: 0.5872 - accuracy: 0.8146\n",
      "Epoch 7/25\n",
      "469/469 [==============================] - 1s 3ms/step - loss: 0.5381 - accuracy: 0.8259\n",
      "Epoch 8/25\n",
      "469/469 [==============================] - 1s 3ms/step - loss: 0.5029 - accuracy: 0.8342\n",
      "Epoch 9/25\n",
      "469/469 [==============================] - 1s 3ms/step - loss: 0.4785 - accuracy: 0.8401\n",
      "Epoch 10/25\n",
      "469/469 [==============================] - 1s 3ms/step - loss: 0.4610 - accuracy: 0.8436\n",
      "Epoch 11/25\n",
      "469/469 [==============================] - 1s 3ms/step - loss: 0.4469 - accuracy: 0.8468\n",
      "Epoch 12/25\n",
      "469/469 [==============================] - 1s 3ms/step - loss: 0.4361 - accuracy: 0.8496\n",
      "Epoch 13/25\n",
      "469/469 [==============================] - 1s 3ms/step - loss: 0.4280 - accuracy: 0.8522\n",
      "Epoch 14/25\n",
      "469/469 [==============================] - 2s 4ms/step - loss: 0.4197 - accuracy: 0.8550\n",
      "Epoch 15/25\n",
      "469/469 [==============================] - 2s 4ms/step - loss: 0.4131 - accuracy: 0.8571\n",
      "Epoch 16/25\n",
      "469/469 [==============================] - 1s 3ms/step - loss: 0.4079 - accuracy: 0.8581\n",
      "Epoch 17/25\n",
      "469/469 [==============================] - 1s 3ms/step - loss: 0.4021 - accuracy: 0.8604\n",
      "Epoch 18/25\n",
      "469/469 [==============================] - 1s 3ms/step - loss: 0.3968 - accuracy: 0.8608\n",
      "Epoch 19/25\n",
      "469/469 [==============================] - 1s 3ms/step - loss: 0.3931 - accuracy: 0.8628\n",
      "Epoch 20/25\n",
      "469/469 [==============================] - 1s 3ms/step - loss: 0.3893 - accuracy: 0.8634\n",
      "Epoch 21/25\n",
      "469/469 [==============================] - 1s 3ms/step - loss: 0.3854 - accuracy: 0.8648\n",
      "Epoch 22/25\n",
      "469/469 [==============================] - 1s 3ms/step - loss: 0.3817 - accuracy: 0.8657\n",
      "Epoch 23/25\n",
      "469/469 [==============================] - 2s 3ms/step - loss: 0.3790 - accuracy: 0.8673\n",
      "Epoch 24/25\n",
      "469/469 [==============================] - 2s 4ms/step - loss: 0.3757 - accuracy: 0.8685\n",
      "Epoch 25/25\n",
      "469/469 [==============================] - 1s 3ms/step - loss: 0.3727 - accuracy: 0.8685\n"
     ]
    },
    {
     "data": {
      "text/plain": [
       "<keras.callbacks.History at 0x7f8440683790>"
      ]
     },
     "execution_count": 12,
     "metadata": {},
     "output_type": "execute_result"
    }
   ],
   "source": [
    "import os\n",
    "\n",
    "#https://stackoverflow.com/questions/53014306/error-15-initializing-libiomp5-dylib-but-found-libiomp5-dylib-already-initial\n",
    "# os.environ['KMP_DUPLICATE_LIB_OK']='True' \n",
    "\n",
    "# TODO: Compile and fit your model\n",
    "model = my_model(X_train_norm.shape[1])\n",
    "\n",
    "model.compile(optimizer='adam', loss='categorical_crossentropy', metrics=['accuracy'])\n",
    "\n",
    "model.fit(X_train_norm, y_train_cat, epochs=25, batch_size=128)"
   ]
  },
  {
   "cell_type": "markdown",
   "metadata": {
    "id": "ZhPfw_2MeR3i"
   },
   "source": [
    "Once your model has been trained, compute the accuracy (and other metrics if you want) on the train and test dataset.\n",
    "\n",
    "Be careful, Keras returns softmax output (so an array of 10 values between 0 and 1, for which the sum is equal to 1). To compute correctly the accuracy, you have to convert that array into a categorical array with zeros and a 1."
   ]
  },
  {
   "cell_type": "code",
   "execution_count": 13,
   "metadata": {
    "colab": {
     "base_uri": "https://localhost:8080/"
    },
    "id": "F82RXTqyeR3i",
    "outputId": "21b711dc-4f89-43f4-8ef9-30959e354aa3"
   },
   "outputs": [
    {
     "name": "stdout",
     "output_type": "stream",
     "text": [
      "accuracy on train with NN: 0.8688666820526123\n",
      "accuracy on test with NN: 0.8442999720573425\n"
     ]
    }
   ],
   "source": [
    "# TODO: Compute the accuracy of your model\n",
    "print('accuracy on train with NN:', model.evaluate(X_train_norm, y_train_cat, verbose=0)[1])\n",
    "print('accuracy on test with NN:', model.evaluate(X_test_norm, y_test_cat, verbose=0)[1])"
   ]
  },
  {
   "cell_type": "markdown",
   "metadata": {
    "id": "Nbv8R8sJeR3j"
   },
   "source": [
    "What do you think of those results? Can you improve it by changing the number of layers? Of units per layer? The number of epochs? The activation functions?\n",
    "\n",
    "You should try!"
   ]
  },
  {
   "cell_type": "markdown",
   "metadata": {
    "id": "ckHwkhdleR3j"
   },
   "source": [
    "---"
   ]
  },
  {
   "cell_type": "markdown",
   "metadata": {
    "id": "owN6hexweR3j"
   },
   "source": [
    "In order to compare your results with more traditional machine learning methods, you will do this work with another method: a PCA followed by a classification model (of your choice). Of course, you can perform hyperparameter optimization using a gridsearch on that model!\n",
    "\n",
    "Fit your model and display the performances."
   ]
  },
  {
   "cell_type": "code",
   "execution_count": 18,
   "metadata": {
    "colab": {
     "base_uri": "https://localhost:8080/"
    },
    "id": "LlkVmbnleR3j",
    "outputId": "0aa3027c-1499-406f-d060-668719674d18"
   },
   "outputs": [
    {
     "name": "stdout",
     "output_type": "stream",
     "text": [
      "X_train_pca [[-4.86250160e-01  6.40421332e+00 -4.74918114e+00 ...  2.64837589e-01\n",
      "  -3.01776566e-01  2.46491575e-01]\n",
      " [ 5.52128962e+00 -1.77114249e+00 -1.02363543e+00 ... -1.64691967e-01\n",
      "  -3.41745383e-01 -2.03697200e-01]\n",
      " [-2.84670900e+00 -4.32093387e+00  4.16291147e-01 ...  1.17311453e-01\n",
      "  -1.71282650e-01  1.71268899e-01]\n",
      " ...\n",
      " [ 3.36372626e+00 -4.62839288e+00 -2.04193723e+00 ... -4.13681577e-01\n",
      "  -2.26238003e-01 -1.65063681e-01]\n",
      " [-3.16657461e+00 -2.27928970e+00  1.88360748e+00 ... -5.14331176e-03\n",
      "  -5.59952075e-02 -1.59279717e-01]\n",
      " [-7.12025023e+00 -4.69581736e-01  1.83887764e+00 ... -9.23466442e-02\n",
      "  -9.75267145e-02 -4.40080063e-01]]\n",
      "X_test_pca [[-5.83301194  2.57030226 -1.05445252 ... -0.18780141 -0.16591048\n",
      "   0.05214254]\n",
      " [ 7.3451637   4.22275402  3.02110577 ...  0.18428494  0.77747372\n",
      "   0.16081476]\n",
      " [ 1.51166533 -6.02398084 -1.73901953 ...  0.53677324 -0.30714763\n",
      "  -0.1479627 ]\n",
      " ...\n",
      " [-2.00567449 -2.84402168 -0.85132553 ... -0.23471388 -0.24766903\n",
      "  -0.1950116 ]\n",
      " [-0.86981381 -5.53426208 -1.72230873 ... -0.74843907  0.1539941\n",
      "   0.03403243]\n",
      " [-5.9621029   0.37308859  1.0420986  ... -0.23418458  0.03472426\n",
      "   0.15784549]]\n",
      "X_train_shape (60000, 84)\n",
      "X_test_shape (10000, 84)\n"
     ]
    }
   ],
   "source": [
    "# TODO: Redo the classification with PCA and classification model\n",
    "from sklearn.decomposition import PCA\n",
    "\n",
    "pca = PCA(n_components = 0.9)\n",
    "\n",
    "pca.fit(X_train_norm)\n",
    "X_train_pca = pca.transform(X_train_norm)\n",
    "X_test_pca = pca.transform(X_test_norm)\n",
    "\n",
    "print('X_train_pca', X_train_pca)\n",
    "print('X_test_pca', X_test_pca)\n",
    "print('X_train_shape', X_train_pca.shape)\n",
    "print('X_test_shape', X_test_pca.shape)"
   ]
  },
  {
   "cell_type": "code",
   "execution_count": 15,
   "metadata": {
    "colab": {
     "base_uri": "https://localhost:8080/"
    },
    "id": "DYJZSBWceR3j",
    "outputId": "430abdb1-80a3-4613-90fa-dbe82451b876"
   },
   "outputs": [
    {
     "name": "stdout",
     "output_type": "stream",
     "text": [
      "score with RF on train 1.0\n",
      "score with RF on train 0.8602\n"
     ]
    }
   ],
   "source": [
    "# TODO: use any classifier you want\n",
    "from sklearn.ensemble import RandomForestClassifier\n",
    "\n",
    "rf = RandomForestClassifier()\n",
    "\n",
    "rf.fit(X_train_pca, y_train)\n",
    "\n",
    "print('score with RF on train', rf.score(X_train_pca, y_train))\n",
    "print('score with RF on train', rf.score(X_test_pca, y_test))"
   ]
  },
  {
   "cell_type": "markdown",
   "metadata": {
    "id": "umiQWSsieR3j"
   },
   "source": [
    "Are the performances different? Can you explain why? Yes performance improves in both training and testing becasue of PCA dimensionality reduction technique"
   ]
  },
  {
   "cell_type": "markdown",
   "metadata": {
    "id": "kUKLzhmceR3k"
   },
   "source": [
    "If you still have time, you could try to use scikit-learn's `Pipeline` to perform the hyperparameter optimization jointly on the PCA and the classification model. This might improve your performances."
   ]
  }
 ],
 "metadata": {
  "colab": {
   "provenance": []
  },
  "kernelspec": {
   "display_name": "Python 3 (ipykernel)",
   "language": "python",
   "name": "python3"
  },
  "language_info": {
   "codemirror_mode": {
    "name": "ipython",
    "version": 3
   },
   "file_extension": ".py",
   "mimetype": "text/x-python",
   "name": "python",
   "nbconvert_exporter": "python",
   "pygments_lexer": "ipython3",
   "version": "3.9.7"
  },
  "toc": {
   "base_numbering": 1,
   "nav_menu": {},
   "number_sections": true,
   "sideBar": true,
   "skip_h1_title": false,
   "title_cell": "Table of Contents",
   "title_sidebar": "Contents",
   "toc_cell": false,
   "toc_position": {},
   "toc_section_display": true,
   "toc_window_display": false
  }
 },
 "nbformat": 4,
 "nbformat_minor": 1
}
